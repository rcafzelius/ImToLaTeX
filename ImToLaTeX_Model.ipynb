{
  "nbformat": 4,
  "nbformat_minor": 0,
  "metadata": {
    "colab": {
      "provenance": []
    },
    "kernelspec": {
      "name": "python3",
      "display_name": "Python 3"
    },
    "language_info": {
      "name": "python"
    }
  },
  "cells": [
    {
      "cell_type": "code",
      "execution_count": null,
      "metadata": {
        "id": "UpjRi1SSBQas"
      },
      "outputs": [],
      "source": [
        "import numpy as np\n",
        "import pandas as pd\n",
        "import os\n",
        "import torch\n",
        "import torchvision\n",
        "import matplotlib.pyplot as plt\n",
        "from time import time\n",
        "from torchvision import datasets, transforms\n",
        "from torch import nn, optim\n",
        "from google.colab import drive\n",
        "from PIL import Image\n",
        "from sklearn.model_selection import train_test_split"
      ]
    },
    {
      "cell_type": "code",
      "source": [
        "def unpickle(file):\n",
        "  import pickle\n",
        "  with open(file, 'rb') as fo:\n",
        "    dict = pickle.load(fo, encoding='bytes')\n",
        "  return dict"
      ],
      "metadata": {
        "id": "ybEznW7XI3Jq"
      },
      "execution_count": null,
      "outputs": []
    },
    {
      "cell_type": "code",
      "source": [
        "def pad(a):\n",
        "    zeros = np.zeros((140,155,3))\n",
        "    zeros = np.where(zeros == 0, 255, 0)\n",
        "    zeros[:a.shape[0], :a.shape[1], :] = a\n",
        "    return zeros"
      ],
      "metadata": {
        "id": "vIuupH5hM6_c"
      },
      "execution_count": null,
      "outputs": []
    },
    {
      "cell_type": "code",
      "source": [
        "drive.mount(\"Data_forCV\")"
      ],
      "metadata": {
        "colab": {
          "base_uri": "https://localhost:8080/",
          "height": 166
        },
        "id": "FnybOACrBbWa",
        "outputId": "ecb60b1d-fe5b-4219-b3e2-3d286925197a"
      },
      "execution_count": null,
      "outputs": [
        {
          "output_type": "error",
          "ename": "NameError",
          "evalue": "ignored",
          "traceback": [
            "\u001b[0;31m---------------------------------------------------------------------------\u001b[0m",
            "\u001b[0;31mNameError\u001b[0m                                 Traceback (most recent call last)",
            "\u001b[0;32m<ipython-input-1-32c3d0fb7e72>\u001b[0m in \u001b[0;36m<module>\u001b[0;34m\u001b[0m\n\u001b[0;32m----> 1\u001b[0;31m \u001b[0mdrive\u001b[0m\u001b[0;34m.\u001b[0m\u001b[0mmount\u001b[0m\u001b[0;34m(\u001b[0m\u001b[0;34m\"Data_forCV\"\u001b[0m\u001b[0;34m)\u001b[0m\u001b[0;34m\u001b[0m\u001b[0;34m\u001b[0m\u001b[0m\n\u001b[0m",
            "\u001b[0;31mNameError\u001b[0m: name 'drive' is not defined"
          ]
        }
      ]
    },
    {
      "cell_type": "code",
      "source": [
        "import os\n",
        "count = 0\n",
        "filenameList = [0] * 100\n",
        "for filename in os.listdir('/content/Data_forCV/MyDrive/Senior Year/Computer Vision/CV Final Project/Data_forCV2/MonoImages/'):\n",
        "  with open(os.path.join('/content/Data_forCV/MyDrive/Senior Year/Computer Vision/CV Final Project/Data_forCV2/MonoImages/', filename), 'r') as f:\n",
        "    if filename[1] == \".\":\n",
        "      filenameList[int(filename[0])] = filename\n",
        "    else:\n",
        "      filenameList[int(filename[:2])] = filename\n",
        "endValue = 0\n",
        "def fileList(lister):\n",
        "  for value in range(0, len(lister)):\n",
        "    if filenameList[value] == 0:\n",
        "      return value\n",
        "truncateFileList = filenameList[:fileList(filenameList)]\n",
        "print(truncateFileList)\n",
        "\n",
        "from pandas.core.window.ewm import OnlineExponentialMovingWindow\n",
        "\n",
        "#Number of samples, Number of spectrums, hxw - 140x155\n",
        "\n",
        "import cv2\n",
        "import numpy as np\n",
        "from google.colab.patches import cv2_imshow\n",
        "\n",
        "def padInput(img, newH, newW):\n",
        "  # read image\n",
        "  oldH, oldW, channels = img.shape\n",
        "  # create new image of desired size and color (blue) for padding\n",
        "  color = (255,255,255)\n",
        "  result = np.full((newH,newW, channels), color, dtype=np.uint8)\n",
        "  # compute center offset\n",
        "  x_center = (newW - oldW) // 2\n",
        "  y_center = (newH - oldH) // 2\n",
        "  # copy img image into center of result image\n",
        "  result[y_center:y_center+oldH,\n",
        "        x_center:x_center+oldW] = img\n",
        "  return result\n",
        "\n",
        "def padTwo(img, newH, newW):\n",
        "  oldH, oldW, channels = img.shape\n",
        "  if oldH <= newH and oldW <= newW:\n",
        "    paddedIm = padInput(img, newH, newW)\n",
        "    return paddedIm\n",
        "  else:\n",
        "    if oldH > newH and oldW > newW:\n",
        "      #print(\"0: \", img.shape)\n",
        "      scaleH = newH / oldH\n",
        "      scaleW = newW / oldW\n",
        "      width = int(img.shape[1] * scaleW)\n",
        "      height = int(img.shape[0] * scaleH)\n",
        "      dim = (width, height)\n",
        "      tempPad = cv2.resize(img, dim, interpolation = cv2.INTER_AREA)\n",
        "\n",
        "    elif oldH > newH:\n",
        "      #print(\"1: \", img.shape)\n",
        "      scale = newH / oldH\n",
        "      width = int(img.shape[1] * scale)\n",
        "      height = int(img.shape[0] * scale)\n",
        "      dim = (width, height)\n",
        "      tempPad = cv2.resize(img, dim, interpolation = cv2.INTER_AREA)\n",
        "\n",
        "    elif oldW > newW:\n",
        "      #print(\"2: \", img.shape)\n",
        "      scale = newW / oldW\n",
        "      width = int(img.shape[1] * scale)\n",
        "      height = int(img.shape[0] * scale)\n",
        "      dim = (width, height)\n",
        "      tempPad = cv2.resize(img, dim, interpolation = cv2.INTER_AREA)\n",
        "    paddedIm = padInput(tempPad, newH, newW)\n",
        "    return paddedIm\n",
        "\n",
        "count = 0\n",
        "fig = plt.figure(figsize=(10, 7))\n",
        "imList = []\n",
        "for pic in range(0, len(truncateFileList)):\n",
        "  fig.add_subplot(len(truncateFileList) / 2 + 1, len(truncateFileList) / 2 + 1, pic + 1)\n",
        "  img = cv2.imread('/content/Data_forCV/MyDrive/Senior Year/Computer Vision/CV Final Project/Data_forCV2/MonoImages/' + str(truncateFileList[pic]))\n",
        "  oldH, oldW, channels = img.shape\n",
        "\n",
        "  img_binary = cv2.threshold(img, 128, 255, cv2.THRESH_BINARY)[1]\n",
        "  newH, newW = 140, 155\n",
        "  paddedIm = padTwo(img,newH,newW)\n",
        "  paddedIm[:,:,0] = np.where(paddedIm[:,:,0] != 255, 0, 255)\n",
        "  paddedIm[:,:,1] = np.where(paddedIm[:,:,1] != 255, 0, 255)\n",
        "  paddedIm[:,:,2] = np.where(paddedIm[:,:,2] != 255, 0, 255)\n",
        "  imList.append(paddedIm)\n",
        "  plt.imshow(paddedIm)\n",
        "  plt.axis('off')"
      ],
      "metadata": {
        "id": "swPecoBziCUz",
        "colab": {
          "base_uri": "https://localhost:8080/",
          "height": 167
        },
        "outputId": "c7e8cee3-7fdc-4252-ddc6-f0359680a764"
      },
      "execution_count": null,
      "outputs": [
        {
          "output_type": "stream",
          "name": "stdout",
          "text": [
            "['0.png', '1.png', '2.png', '3.png', '4.png', '5.png', '6.png', '7.png', '8.png', '9.png', '10.png']\n"
          ]
        },
        {
          "output_type": "display_data",
          "data": {
            "text/plain": [
              "<Figure size 720x504 with 11 Axes>"
            ],
            "image/png": "[encoded data removed]"
          },
          "metadata": {
            "needs_background": "light"
          }
        }
      ]
    },
    {
      "cell_type": "code",
      "source": [
        "# print(imList[2][30:60,60:90,2])"
      ],
      "metadata": {
        "id": "u3MVWe7LY0B_"
      },
      "execution_count": null,
      "outputs": []
    },
    {
      "cell_type": "code",
      "source": [
        "symbols_folder = \"/content/Data_forCV/MyDrive/Senior Year/Computer Vision/CV Final Project/Data_forCV2/\"\n",
        "test_data_name = \"eval\"\n",
        "train_data_name = 'train'"
      ],
      "metadata": {
        "id": "eUoz7cc_Bd4S"
      },
      "execution_count": null,
      "outputs": []
    },
    {
      "cell_type": "code",
      "source": [
        "transform = transforms.Compose([transforms.ToTensor(),\n",
        "                              transforms.Normalize((0.5,), (0.5,)),\n",
        "                              ])"
      ],
      "metadata": {
        "id": "G_sRxyaGrSmK"
      },
      "execution_count": null,
      "outputs": []
    },
    {
      "cell_type": "code",
      "source": [
        "labels = []\n",
        "train_data = np.zeros([6416, 140, 155, 3])\n",
        "train_labels = []\n",
        "count = 0\n",
        "for i in range(len(os.listdir(symbols_folder + train_data_name))):\n",
        "  filename = os.listdir(symbols_folder + train_data_name)[i]\n",
        "  labels.append(filename)\n",
        "  localcount = 0\n",
        "  for imname in os.listdir(symbols_folder + train_data_name + '/' + filename):\n",
        "    img = Image.open(symbols_folder + train_data_name + '/' + filename + \"/\" + imname)\n",
        "    dataArr = np.array(img)\n",
        "    dataArr = pad(dataArr)\n",
        "    train_data[count] = dataArr\n",
        "    train_labels.append(filename)\n",
        "    count += 1\n",
        "    localcount += 1\n",
        "    if localcount > 400:\n",
        "      i+=1\n",
        "      break\n",
        "  print(filename + \" complete\")"
      ],
      "metadata": {
        "colab": {
          "base_uri": "https://localhost:8080/"
        },
        "id": "mxQ_-9u7BfvA",
        "outputId": "2eb64b2c-c921-41d0-f243-7560addf8179"
      },
      "execution_count": null,
      "outputs": [
        {
          "output_type": "stream",
          "name": "stdout",
          "text": [
            "eight complete\n",
            "seven complete\n",
            "zero complete\n",
            "decimal complete\n",
            "minus complete\n",
            "nine complete\n",
            "div complete\n",
            "one complete\n",
            "times complete\n",
            "three complete\n",
            "two complete\n",
            "six complete\n",
            "equal complete\n",
            "five complete\n",
            "four complete\n",
            "plus complete\n"
          ]
        }
      ]
    },
    {
      "cell_type": "code",
      "source": [
        "count"
      ],
      "metadata": {
        "colab": {
          "base_uri": "https://localhost:8080/"
        },
        "id": "8qDqlV3wSo9n",
        "outputId": "56d9bf2b-87b8-4626-ea4c-9bb34cb6280b"
      },
      "execution_count": null,
      "outputs": [
        {
          "output_type": "execute_result",
          "data": {
            "text/plain": [
              "6416"
            ]
          },
          "metadata": {},
          "execution_count": 10
        }
      ]
    },
    {
      "cell_type": "code",
      "source": [
        "len(labels)"
      ],
      "metadata": {
        "colab": {
          "base_uri": "https://localhost:8080/"
        },
        "id": "P5BRtLbVi_qf",
        "outputId": "d7bd1eb8-c89e-4294-cb03-0b70502131de"
      },
      "execution_count": null,
      "outputs": [
        {
          "output_type": "execute_result",
          "data": {
            "text/plain": [
              "16"
            ]
          },
          "metadata": {},
          "execution_count": 11
        }
      ]
    },
    {
      "cell_type": "code",
      "source": [
        "print(labels)"
      ],
      "metadata": {
        "colab": {
          "base_uri": "https://localhost:8080/"
        },
        "id": "I8j02WGlYbwc",
        "outputId": "72148217-12f5-4b5a-ed71-da0539e8c4b7"
      },
      "execution_count": null,
      "outputs": [
        {
          "output_type": "stream",
          "name": "stdout",
          "text": [
            "['eight', 'seven', 'zero', 'decimal', 'minus', 'nine', 'div', 'one', 'times', 'three', 'two', 'six', 'equal', 'five', 'four', 'plus']\n"
          ]
        }
      ]
    },
    {
      "cell_type": "code",
      "source": [
        "train_data.shape"
      ],
      "metadata": {
        "colab": {
          "base_uri": "https://localhost:8080/"
        },
        "id": "up3kR_NJJ7Zr",
        "outputId": "7f1b0c29-b3c3-40ee-ea5c-b8ee43ab0c5a"
      },
      "execution_count": null,
      "outputs": [
        {
          "output_type": "execute_result",
          "data": {
            "text/plain": [
              "(6416, 140, 155, 3)"
            ]
          },
          "metadata": {},
          "execution_count": 13
        }
      ]
    },
    {
      "cell_type": "code",
      "source": [
        "train_labels = np.asarray(train_labels)\n",
        "train_labels.shape"
      ],
      "metadata": {
        "colab": {
          "base_uri": "https://localhost:8080/"
        },
        "id": "K00WBD6qT4ms",
        "outputId": "3c8e6f4b-f5eb-4425-e3e0-bca72316e1cc"
      },
      "execution_count": null,
      "outputs": [
        {
          "output_type": "execute_result",
          "data": {
            "text/plain": [
              "(6416,)"
            ]
          },
          "metadata": {},
          "execution_count": 14
        }
      ]
    },
    {
      "cell_type": "code",
      "source": [
        "train_data = torch.tensor(train_data)"
      ],
      "metadata": {
        "id": "3Bu_2O7yw3nc"
      },
      "execution_count": null,
      "outputs": []
    },
    {
      "cell_type": "code",
      "source": [
        "train = train_data.view(train_data.shape[0], -1)\n",
        "train.shape"
      ],
      "metadata": {
        "colab": {
          "base_uri": "https://localhost:8080/"
        },
        "id": "qZZZNfAtPmxp",
        "outputId": "78ab9643-6ab5-49a8-9246-7727caaacf49"
      },
      "execution_count": null,
      "outputs": [
        {
          "output_type": "execute_result",
          "data": {
            "text/plain": [
              "torch.Size([6416, 65100])"
            ]
          },
          "metadata": {},
          "execution_count": 16
        }
      ]
    },
    {
      "cell_type": "code",
      "source": [
        "X_train, X_test, y_train, y_test = train_test_split(train_data, train_labels, test_size=0.25, random_state=23)"
      ],
      "metadata": {
        "id": "tZ3AL6dfQb1u"
      },
      "execution_count": null,
      "outputs": []
    },
    {
      "cell_type": "code",
      "source": [
        "X_Train = X_train.view(X_train.shape[0], -1)"
      ],
      "metadata": {
        "id": "LCkhMCBlZmWG"
      },
      "execution_count": null,
      "outputs": []
    },
    {
      "cell_type": "code",
      "source": [
        "X_train.shape"
      ],
      "metadata": {
        "colab": {
          "base_uri": "https://localhost:8080/"
        },
        "id": "8uboQfkGWwB_",
        "outputId": "d9b1b3f2-dd2a-46fa-d9bb-289d3a2f9dbc"
      },
      "execution_count": null,
      "outputs": [
        {
          "output_type": "execute_result",
          "data": {
            "text/plain": [
              "torch.Size([4812, 140, 155, 3])"
            ]
          },
          "metadata": {},
          "execution_count": 19
        }
      ]
    },
    {
      "cell_type": "code",
      "source": [
        "class Net(nn.Module):\n",
        "    def __init__(self):\n",
        "        super(Net, self).__init__()\n",
        "        self.cnn_layers = nn.Sequential(\n",
        "\n",
        "            nn.Conv2d(3, 4, kernel_size=3, stride=1, padding=1),\n",
        "            nn.BatchNorm2d(4),\n",
        "            nn.ReLU(inplace=True),\n",
        "            nn.MaxPool2d(kernel_size=2, stride=2),\n",
        "\n",
        "            nn.Conv2d(4, 4, kernel_size=3, stride=1, padding=1),\n",
        "            nn.BatchNorm2d(4),\n",
        "            nn.ReLU(inplace=True),\n",
        "            nn.MaxPool2d(kernel_size=2, stride=2),\n",
        "\n",
        "            nn.Conv2d(4, 4, kernel_size=3, stride=1, padding=1),\n",
        "            nn.BatchNorm2d(4),\n",
        "            nn.ReLU(inplace=True),\n",
        "            nn.MaxPool2d(kernel_size=2, stride=2),\n",
        "\n",
        "            nn.Conv2d(4, 4, kernel_size=3, stride=1, padding=1),\n",
        "            nn.BatchNorm2d(4),\n",
        "            nn.ReLU(inplace=True),\n",
        "            nn.MaxPool2d(kernel_size=2, stride=2),\n",
        "        )\n",
        "\n",
        "        self.linear_layers = nn.Sequential(\n",
        "            nn.Linear(288, 16)\n",
        "        )\n",
        "\n",
        "    def forward(self, x):\n",
        "        x = self.cnn_layers(x)\n",
        "        x = x.view(x.size(0), -1)\n",
        "        x = self.linear_layers(x)\n",
        "        return x"
      ],
      "metadata": {
        "id": "0uhqkgfJcxxW"
      },
      "execution_count": null,
      "outputs": []
    },
    {
      "cell_type": "code",
      "source": [
        "model = Net()"
      ],
      "metadata": {
        "id": "0lQ3Q1mkc9ju"
      },
      "execution_count": null,
      "outputs": []
    },
    {
      "cell_type": "code",
      "source": [
        "criterion = nn.CrossEntropyLoss()\n",
        "X_train = torch.tensor(X_train[0:4800])\n",
        "y_train = y_train[0:4800]\n",
        "X_train.dtype"
      ],
      "metadata": {
        "colab": {
          "base_uri": "https://localhost:8080/"
        },
        "id": "3cm0vdAXUZNl",
        "outputId": "e418a7c0-1e23-4e59-dc15-d928df2a3320"
      },
      "execution_count": null,
      "outputs": [
        {
          "output_type": "stream",
          "name": "stderr",
          "text": [
            "<ipython-input-22-1579a063ca77>:2: UserWarning: To copy construct from a tensor, it is recommended to use sourceTensor.clone().detach() or sourceTensor.clone().detach().requires_grad_(True), rather than torch.tensor(sourceTensor).\n",
            "  X_train = torch.tensor(X_train[0:4800])\n"
          ]
        },
        {
          "output_type": "execute_result",
          "data": {
            "text/plain": [
              "torch.float64"
            ]
          },
          "metadata": {},
          "execution_count": 22
        }
      ]
    },
    {
      "cell_type": "code",
      "source": [
        "X_train = X_train.to(torch.float32)\n",
        "X_train = X_train.reshape(4800, 3, 140, 155)"
      ],
      "metadata": {
        "id": "amBQ2PjXh79S"
      },
      "execution_count": null,
      "outputs": []
    },
    {
      "cell_type": "code",
      "source": [
        "Y_train = np.zeros(y_train.shape[0])\n",
        "for i in range(y_train.shape[0]):\n",
        "  Y_train[i] = np.where(np.asarray(labels) == y_train[i])[0]"
      ],
      "metadata": {
        "id": "G63ywhWSffqB"
      },
      "execution_count": null,
      "outputs": []
    },
    {
      "cell_type": "code",
      "source": [
        "Y_train = Y_train.astype(int)\n",
        "Y_train = torch.tensor(Y_train)\n",
        "Y_train"
      ],
      "metadata": {
        "id": "SFVMLwLOhEAD",
        "colab": {
          "base_uri": "https://localhost:8080/"
        },
        "outputId": "edb5a490-c3ba-4eb6-e793-dc0032a1a050"
      },
      "execution_count": null,
      "outputs": [
        {
          "output_type": "execute_result",
          "data": {
            "text/plain": [
              "tensor([ 7, 11,  0,  ...,  4, 10,  1])"
            ]
          },
          "metadata": {},
          "execution_count": 25
        }
      ]
    },
    {
      "cell_type": "code",
      "source": [
        "X_train.shape"
      ],
      "metadata": {
        "colab": {
          "base_uri": "https://localhost:8080/"
        },
        "id": "-1jy8KcEqI6S",
        "outputId": "d81d3677-086a-431b-b206-28f58da91e8c"
      },
      "execution_count": null,
      "outputs": [
        {
          "output_type": "execute_result",
          "data": {
            "text/plain": [
              "torch.Size([4800, 3, 140, 155])"
            ]
          },
          "metadata": {},
          "execution_count": 26
        }
      ]
    },
    {
      "cell_type": "code",
      "source": [
        "optimizer = optim.SGD(model.parameters(), lr=0.0035, momentum=0.9)\n",
        "time0 = time()\n",
        "div = 240\n",
        "epochs = 10\n",
        "for e in range(epochs):\n",
        "    running_loss = 0\n",
        "    for i in range(int(X_train.shape[0] / div)):\n",
        "        # Flatten MNIST images into a 784 long vector\n",
        "        # images = X_train[i*div:(i+1)*div].view(X_train[i*div:(i+1)*div].shape[0], -1)\n",
        "        images = X_train[i*div:(i+1)*div]\n",
        "\n",
        "        # Training pass\n",
        "        optimizer.zero_grad()\n",
        "\n",
        "        output = model(images)\n",
        "        loss = criterion(output, Y_train[i*div:(i+1)*div])\n",
        "\n",
        "        #This is where the model learns by backpropagating\n",
        "        loss.backward()\n",
        "\n",
        "        #And optimizes its weights here\n",
        "        optimizer.step()\n",
        "\n",
        "        running_loss += loss.item()\n",
        "    else:\n",
        "        print(\"Epoch {} - Training loss: {}\".format(e, running_loss/len(X_train[i*div:(i+1)*div])))\n",
        "print(\"\\nTraining Time (in minutes) =\",(time()-time0)/60)"
      ],
      "metadata": {
        "id": "eAHsZjTjQLbs",
        "colab": {
          "base_uri": "https://localhost:8080/"
        },
        "outputId": "a741655d-c70a-4e3b-bc4c-10cf620bfcb2"
      },
      "execution_count": null,
      "outputs": [
        {
          "output_type": "stream",
          "name": "stdout",
          "text": [
            "Epoch 0 - Training loss: 0.23282777468363444\n",
            "Epoch 1 - Training loss: 0.20916593770186107\n",
            "Epoch 2 - Training loss: 0.18652165134747822\n",
            "Epoch 3 - Training loss: 0.16793369303147\n",
            "Epoch 4 - Training loss: 0.15575859000285466\n",
            "Epoch 5 - Training loss: 0.14688594241937\n",
            "Epoch 6 - Training loss: 0.13946811457475025\n",
            "Epoch 7 - Training loss: 0.13290205200513203\n",
            "Epoch 8 - Training loss: 0.12667075941960018\n",
            "Epoch 9 - Training loss: 0.12063271900018056\n",
            "\n",
            "Training Time (in minutes) = 2.9727323691050214\n"
          ]
        }
      ]
    },
    {
      "cell_type": "code",
      "source": [
        "X_test.shape"
      ],
      "metadata": {
        "colab": {
          "base_uri": "https://localhost:8080/"
        },
        "id": "BzLOHbRWd21a",
        "outputId": "bb0b9d60-b353-40bf-8c7a-a5b9beb7bc49"
      },
      "execution_count": null,
      "outputs": [
        {
          "output_type": "execute_result",
          "data": {
            "text/plain": [
              "torch.Size([1604, 140, 155, 3])"
            ]
          },
          "metadata": {},
          "execution_count": 28
        }
      ]
    },
    {
      "cell_type": "code",
      "source": [
        "X_test = torch.tensor(X_test[0:2000])\n",
        "y_test = y_test[0:2000]\n",
        "X_test = X_test.to(torch.float32)\n",
        "X_test = X_test.reshape(1604, 3, 140, 155)\n",
        "Y_test = np.zeros(y_test.shape[0])\n",
        "for i in range(y_test.shape[0]):\n",
        "  Y_test[i] = np.where(np.asarray(labels) == y_test[i])[0]\n",
        "Y_test = Y_test.astype(int)\n",
        "Y_test = torch.tensor(Y_test)"
      ],
      "metadata": {
        "colab": {
          "base_uri": "https://localhost:8080/"
        },
        "id": "Qgp2dn1MmZ-N",
        "outputId": "ec79eb7e-613a-4f6e-d47b-bc70eea0ea79"
      },
      "execution_count": null,
      "outputs": [
        {
          "output_type": "stream",
          "name": "stderr",
          "text": [
            "<ipython-input-29-ccc0c2d09e4a>:1: UserWarning: To copy construct from a tensor, it is recommended to use sourceTensor.clone().detach() or sourceTensor.clone().detach().requires_grad_(True), rather than torch.tensor(sourceTensor).\n",
            "  X_test = torch.tensor(X_test[0:1080])\n"
          ]
        }
      ]
    },
    {
      "cell_type": "code",
      "source": [
        "from sklearn.metrics import accuracy_score"
      ],
      "metadata": {
        "id": "fkBAeUiOetS-"
      },
      "execution_count": null,
      "outputs": []
    },
    {
      "cell_type": "code",
      "source": [
        "with torch.no_grad():\n",
        "    output = model(X_test)\n",
        "\n",
        "softmax = torch.exp(output).cpu()\n",
        "prob = list(softmax.numpy())\n",
        "predictions = np.argmax(prob, axis=1)\n",
        "\n",
        "# accuracy on validation set\n",
        "accuracy_score(Y_test, predictions)"
      ],
      "metadata": {
        "colab": {
          "base_uri": "https://localhost:8080/"
        },
        "id": "m5HL5k47dYeC",
        "outputId": "f4bb4b41-9d53-4421-9428-887c704ca6c3"
      },
      "execution_count": null,
      "outputs": [
        {
          "output_type": "execute_result",
          "data": {
            "text/plain": [
              "0.48333333333333334"
            ]
          },
          "metadata": {},
          "execution_count": 31
        }
      ]
    },
    {
      "cell_type": "code",
      "source": [
        "with torch.no_grad():\n",
        "    output = model(X_train)\n",
        "\n",
        "softmax = torch.exp(output).cpu()\n",
        "prob = list(softmax.numpy())\n",
        "predictions = np.argmax(prob, axis=1)\n",
        "\n",
        "# accuracy on validation set\n",
        "accuracy_score(Y_train, predictions)"
      ],
      "metadata": {
        "id": "9B9HsPnBfmBs"
      },
      "execution_count": null,
      "outputs": []
    },
    {
      "cell_type": "code",
      "source": [
        "imList[0].shape"
      ],
      "metadata": {
        "id": "PFtDxOGRV17i"
      },
      "execution_count": null,
      "outputs": []
    },
    {
      "cell_type": "code",
      "source": [
        "imArray = np.zeros([len(imList), 140, 155, 3])\n",
        "for i in range(len(imList)):\n",
        "  imArray[i] = imList[i]"
      ],
      "metadata": {
        "id": "fZ-f5i9-hfGJ"
      },
      "execution_count": null,
      "outputs": []
    },
    {
      "cell_type": "code",
      "source": [
        "imArray.shape\n",
        "imTensor = torch.tensor(imArray)\n",
        "imTensor = imTensor.to(torch.float32)\n",
        "imTensor = imTensor.reshape(11, 3, 140, 155)"
      ],
      "metadata": {
        "id": "p8rFiBnZiEgH"
      },
      "execution_count": null,
      "outputs": []
    },
    {
      "cell_type": "code",
      "source": [
        "with torch.no_grad():\n",
        "  output = model(imTensor)\n",
        "\n",
        "softmax = torch.exp(output).cpu()\n",
        "prob = list(softmax.numpy())\n",
        "predictions = np.argmax(prob, axis=1)\n",
        "\n",
        "print(predictions)"
      ],
      "metadata": {
        "id": "m2aPf764iFzQ"
      },
      "execution_count": null,
      "outputs": []
    },
    {
      "cell_type": "code",
      "source": [
        "print(labels)"
      ],
      "metadata": {
        "id": "O4jG0O2JiqHo"
      },
      "execution_count": null,
      "outputs": []
    },
    {
      "cell_type": "code",
      "source": [
        "for image in imList:\n",
        "  cv2_imshow(image)\n",
        "\n",
        "predictionStrings = [labels[i] for i in predictions]"
      ],
      "metadata": {
        "id": "paoUID_IjCo7"
      },
      "execution_count": null,
      "outputs": []
    },
    {
      "cell_type": "code",
      "source": [
        "mapping = {'one': '1', 'two': '2','three': '3',\n",
        "        'four': '4','five': '5','six': '6','seven': '7','eight': '8',\n",
        "        'nine': '9', 'plus': '+', 'equal': '=', 'div': '/', 'times': 'x',\n",
        "        'decimal': '.'}\n",
        "\n",
        "from sympy.core.symbol import Symbol\n",
        "from sympy.printing.latex import LatexPrinter, print_latex\n",
        "from sympy.core.function import UndefinedFunction, Function\n",
        "\n",
        "class MyLatexPrinter(LatexPrinter):\n",
        "    def _print_Derivative(self, expr):\n",
        "        function, *vars = expr.args\n",
        "        if not isinstance(type(function), UndefinedFunction) or \\\n",
        "           not all(isinstance(i, Symbol) for i in vars):\n",
        "            return super()._print_Derivative(expr)\n",
        "        return \"{}_{{{}}}\".format(\n",
        "            self._print(Symbol(function.func.__name__)),\n",
        "                        ''.join(self._print(i) for i in vars))\n",
        "\n",
        "def print_my_latex(expr):\n",
        "    print(MyLatexPrinter().doprint(expr))\n",
        "\n",
        "expression = ''\n",
        "for s in predictionStrings:\n",
        "  expression += mapping[s]\n",
        "\n",
        "print(expression)\n",
        "print_my_latex(expression)"
      ],
      "metadata": {
        "id": "skeGDwxIjPRW",
        "colab": {
          "base_uri": "https://localhost:8080/",
          "height": 235
        },
        "outputId": "3ec5f840-4ee5-469e-872e-b5df3b650895"
      },
      "execution_count": null,
      "outputs": [
        {
          "output_type": "error",
          "ename": "NameError",
          "evalue": "ignored",
          "traceback": [
            "\u001b[0;31m---------------------------------------------------------------------------\u001b[0m",
            "\u001b[0;31mNameError\u001b[0m                                 Traceback (most recent call last)",
            "\u001b[0;32m<ipython-input-1-dce725d4d55f>\u001b[0m in \u001b[0;36m<module>\u001b[0;34m\u001b[0m\n\u001b[1;32m     22\u001b[0m \u001b[0;34m\u001b[0m\u001b[0m\n\u001b[1;32m     23\u001b[0m \u001b[0mexpression\u001b[0m \u001b[0;34m=\u001b[0m \u001b[0;34m''\u001b[0m\u001b[0;34m\u001b[0m\u001b[0;34m\u001b[0m\u001b[0m\n\u001b[0;32m---> 24\u001b[0;31m \u001b[0;32mfor\u001b[0m \u001b[0ms\u001b[0m \u001b[0;32min\u001b[0m \u001b[0mpredictionStrings\u001b[0m\u001b[0;34m:\u001b[0m\u001b[0;34m\u001b[0m\u001b[0;34m\u001b[0m\u001b[0m\n\u001b[0m\u001b[1;32m     25\u001b[0m   \u001b[0mexpression\u001b[0m \u001b[0;34m+=\u001b[0m \u001b[0mmapping\u001b[0m\u001b[0;34m[\u001b[0m\u001b[0ms\u001b[0m\u001b[0;34m]\u001b[0m\u001b[0;34m\u001b[0m\u001b[0;34m\u001b[0m\u001b[0m\n\u001b[1;32m     26\u001b[0m \u001b[0;34m\u001b[0m\u001b[0m\n",
            "\u001b[0;31mNameError\u001b[0m: name 'predictionStrings' is not defined"
          ]
        }
      ]
    },
    {
      "cell_type": "code",
      "source": [],
      "metadata": {
        "id": "Oa2YGREq5kY5"
      },
      "execution_count": null,
      "outputs": []
    }
  ]
}